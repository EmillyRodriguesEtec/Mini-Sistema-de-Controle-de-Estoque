{
 "cells": [
  {
   "cell_type": "markdown",
   "id": "e2f5369c",
   "metadata": {},
  },
  {
   "cell_type": "code",
   "execution_count": 1,
   "id": "a8bc1773",
   "metadata": {},
   "outputs": [
    {
     "name": "stdout",
     "output_type": "stream",
     "text": [
      "Qual é o nome do produto? Dolly\n",
      "Qual é a categoria do produto? bebidas\n",
      "Qual é a quantidade atual de produtos? 15\n",
      "Solicitar Dolly à equipe de compras, temos apenas 15 em estoque\n"
     ]
    }
   ],
   "source": [
    "produto = input('Qual é o nome do produto? ')\n",
    "categoria = input('Qual é a categoria do produto? ')\n",
    "qtdeAtual = input('Qual é a quantidade atual de produtos? ')\n",
    "\n",
    "if produto and categoria and qtdeAtual:\n",
    "    qtdeAtual = int(qtdeAtual)\n",
    "    if categoria == 'bebidas' or categoria == 'Bebidas' or categoria == 'BEBIDAS':\n",
    "        if qtdeAtual < 75:\n",
    "            print(f'Solicitar {produto} à equipe de compras, temos apenas {qtdeAtual} em estoque')\n",
    "    elif categoria == 'alimentos' or categoria == 'Alimentos' or categoria == 'ALIMENTOS':\n",
    "        if qtdeAtual < 50:\n",
    "             print(f'Solicitar {produto} à equipe de compras, temos apenas {qtdeAtual} em estoque')\n",
    "    elif categoria == 'limpeza' or categoria == 'Limpeza' or categoria == 'LIMPEZA':\n",
    "        if qtdeAtual < 30:\n",
    "            print(f'Solicitar {produto} à equipe de compras, temos apenas {qtdeAtual} em estoque')\n",
    "    else:\n",
    "        print(f'A categoria {categoria} não existe!')\n",
    "else:\n",
    "    print('Preencha todas as informações!')"
   ]
  }
 ],
 "metadata": {
  "kernelspec": {
   "display_name": "Python 3 (ipykernel)",
   "language": "python",
   "name": "python3"
  },
  "language_info": {
   "codemirror_mode": {
    "name": "ipython",
    "version": 3
   },
   "file_extension": ".py",
   "mimetype": "text/x-python",
   "name": "python",
   "nbconvert_exporter": "python",
   "pygments_lexer": "ipython3",
   "version": "3.11.5"
  }
 },
 "nbformat": 4,
 "nbformat_minor": 5
}
